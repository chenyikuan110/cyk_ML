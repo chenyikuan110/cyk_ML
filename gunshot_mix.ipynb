{
 "cells": [
  {
   "cell_type": "code",
   "execution_count": 20,
   "metadata": {
    "collapsed": true
   },
   "outputs": [],
   "source": [
    "import wave, numpy as np\n",
    "import matplotlib.pyplot as plt\n",
    "from scipy import signal\n",
    "from scipy.io import wavfile\n",
    "import sounddevice as sd\n",
    "from os import listdir\n",
    "from os.path import isfile, join\n",
    "import copy"
   ]
  },
  {
   "cell_type": "code",
   "execution_count": 24,
   "metadata": {},
   "outputs": [],
   "source": [
    "ambient_1 = \"./audio_set/scream_data/file_97001.wav\"\n",
    "fs,amb_wave = wavfile.read(ambient_1)"
   ]
  },
  {
   "cell_type": "code",
   "execution_count": 25,
   "metadata": {},
   "outputs": [
    {
     "name": "stdout",
     "output_type": "stream",
     "text": [
      "['shot_00.wav', 'shot_01.wav', 'shot_02.wav', 'shot_03.wav', 'shot_04.wav', 'shot_05.wav', 'shot_06.wav', 'shot_07.wav', 'shot_08.wav', 'shot_09.wav', 'shot_10.wav', 'shot_11.wav', 'shot_12.wav', 'shot_13.wav', 'shot_14.wav', 'shot_15.wav', 'shot_16.wav', 'shot_17.wav', 'shot_18.wav']\n",
      "./audio_set/gunshot/shot_00.wav\n",
      "44100\n",
      "(86406, 2)\n",
      "offset= 12.0037641723356 (661500,)\n",
      "./audio_set/gunshot/shot_01.wav\n",
      "96000\n",
      "(116194, 2)\n",
      "offset= 9.44715625 (1440000,)\n",
      "./audio_set/gunshot/shot_02.wav\n",
      "96000\n",
      "(182728, 2)\n",
      "offset= 2.8118541666666665 (1440000,)\n",
      "./audio_set/gunshot/shot_03.wav\n",
      "48000\n",
      "(181770, 2)\n",
      "offset= 10.153541666666667 (720000,)\n",
      "./audio_set/gunshot/shot_04.wav\n",
      "44100\n",
      "(218101, 2)\n",
      "offset= 1.5375056689342403 (661500,)\n",
      "./audio_set/gunshot/shot_05.wav\n",
      "96000\n",
      "(191314, 2)\n",
      "offset= 8.195302083333333 (1440000,)\n",
      "./audio_set/gunshot/shot_06.wav\n",
      "44100\n",
      "(76585, 2)\n",
      "offset= 3.828004535147392 (661500,)\n",
      "./audio_set/gunshot/shot_07.wav\n",
      "44100\n",
      "(39005, 2)\n",
      "offset= 2.840294784580499 (661500,)\n",
      "./audio_set/gunshot/shot_08.wav\n",
      "44100\n",
      "(846336, 2)\n",
      "offset= 8.721383219954648 (1323000,)\n",
      "./audio_set/gunshot/shot_09.wav\n",
      "44100\n",
      "(203175, 2)\n",
      "offset= 0.020702947845804988 (661500,)\n",
      "./audio_set/gunshot/shot_10.wav\n",
      "96000\n",
      "(170323, 2)\n",
      "offset= 2.924260416666667 (1440000,)\n",
      "./audio_set/gunshot/shot_11.wav\n",
      "44100\n",
      "(103360, 2)\n",
      "offset= 3.3025850340136054 (661500,)\n",
      "./audio_set/gunshot/shot_12.wav\n",
      "44100\n",
      "(52992, 2)\n",
      "offset= 4.728616780045352 (661500,)\n",
      "./audio_set/gunshot/shot_13.wav\n",
      "44100\n",
      "(1154026, 2)\n",
      "offset= 1.8284580498866214 (1323000,)\n",
      "./audio_set/gunshot/shot_14.wav\n",
      "44100\n",
      "(326639, 2)\n",
      "offset= 7.1670068027210885 (661500,)\n",
      "./audio_set/gunshot/shot_15.wav\n",
      "44100\n",
      "(322031,)\n",
      "offset= 1.143265306122449 (661500,)\n",
      "./audio_set/gunshot/shot_16.wav\n",
      "44100\n",
      "(95968, 2)\n",
      "offset= 6.172857142857143 (661500,)\n",
      "./audio_set/gunshot/shot_17.wav\n",
      "44100\n",
      "(33696, 2)\n",
      "offset= 6.831337868480726 (661500,)\n",
      "./audio_set/gunshot/shot_18.wav\n",
      "44100\n",
      "(198767, 2)\n",
      "offset= 1.5596825396825398 (661500,)\n"
     ]
    }
   ],
   "source": [
    "wavpath = \"./audio_set/gunshot/\"\n",
    "txtpath = \"./audio_set/gun_text/\"\n",
    "\n",
    "wavfiles = [f for f in listdir(wavpath) if isfile(join(wavpath, f))]\n",
    "txtfiles = [t for t in listdir(txtpath) if isfile(join(txtpath, t))]\n",
    "print(wavfiles)\n",
    "for i in range(len(wavfiles)):\n",
    "    \n",
    "    file_name = \"./audio_set/gunshot/\"+wavfiles[i]\n",
    "    print(file_name)\n",
    "    fs,x_wave = wavfile.read(file_name)\n",
    "    interval = np.genfromtxt(txtpath+txtfiles[i], delimiter='\\t')\n",
    "\n",
    "    print(fs)\n",
    "    #interval = np.genfromtxt(txt_name, delimiter='\\t')\n",
    "    #sd.play(x_wave,fs,blocking=True)\n",
    "    print(x_wave.shape)\n",
    "    two = 1\n",
    "    if(x_wave.shape[0]/fs > 10):\n",
    "        two = 2\n",
    "\n",
    "\n",
    "    offset = int(max(0,np.random.random()*(15*two-x_wave.shape[0]/fs))*fs)\n",
    "    amb = amb_wave[0:int(fs*15*two),0]\n",
    "    print(\"offset=\",offset/fs,amb.shape)\n",
    "    output = copy.deepcopy(amb)\n",
    "    \n",
    "    if(x_wave.shape == (x_wave.shape[0],)):\n",
    "        output[offset:min(amb.shape[0],offset+x_wave.shape[0])] += x_wave[0:min(amb.shape[0]-offset,x_wave.shape[0])]\n",
    "    else:\n",
    "        output[offset:min(amb.shape[0],offset+x_wave.shape[0])] += x_wave[0:min(amb.shape[0]-offset,x_wave.shape[0]),0]\n",
    "    #sd.play(output,fs,blocking=True)\n",
    "\n",
    "    mix_filename = \"./audio_set/gunshot/mix/mix_097\"+wavfiles[i]\n",
    "    wavfile.write(mix_filename,fs,output)\n",
    "    text_filename = \"./audio_set/gunshot/mix_text/mix_097\"+wavfiles[i]+\".txt\"\n",
    "    interval = interval + offset/fs\n",
    "    np.savetxt(text_filename, interval,fmt='%1.3f', delimiter='\\t') \n",
    "    "
   ]
  },
  {
   "cell_type": "code",
   "execution_count": 17,
   "metadata": {},
   "outputs": [
    {
     "name": "stdout",
     "output_type": "stream",
     "text": [
      "(322031,)\n"
     ]
    }
   ],
   "source": [
    "print(x_wave.shape)"
   ]
  },
  {
   "cell_type": "code",
   "execution_count": null,
   "metadata": {
    "collapsed": true
   },
   "outputs": [],
   "source": []
  }
 ],
 "metadata": {
  "kernelspec": {
   "display_name": "Python 3",
   "language": "python",
   "name": "python3"
  },
  "language_info": {
   "codemirror_mode": {
    "name": "ipython",
    "version": 3
   },
   "file_extension": ".py",
   "mimetype": "text/x-python",
   "name": "python",
   "nbconvert_exporter": "python",
   "pygments_lexer": "ipython3",
   "version": "3.6.1"
  }
 },
 "nbformat": 4,
 "nbformat_minor": 2
}
