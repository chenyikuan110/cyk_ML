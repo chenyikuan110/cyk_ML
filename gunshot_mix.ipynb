{
 "cells": [
  {
   "cell_type": "code",
   "execution_count": 1,
   "metadata": {},
   "outputs": [],
   "source": [
    "import wave, numpy as np\n",
    "import matplotlib.pyplot as plt\n",
    "from scipy import signal\n",
    "from scipy.io import wavfile\n",
    "import sounddevice as sd\n",
    "from os import listdir\n",
    "from os.path import isfile, join\n",
    "import copy"
   ]
  },
  {
   "cell_type": "code",
   "execution_count": 14,
   "metadata": {},
   "outputs": [],
   "source": [
    "ambient_1 = \"./audio_set/indoornoise.wav\"\n",
    "fs,amb_wave = wavfile.read(ambient_1)"
   ]
  },
  {
   "cell_type": "code",
   "execution_count": 18,
   "metadata": {},
   "outputs": [
    {
     "name": "stdout",
     "output_type": "stream",
     "text": [
      "['shot_00.wav', 'shot_01.wav', 'shot_02.wav', 'shot_03.wav', 'shot_04.wav', 'shot_05.wav', 'shot_06.wav', 'shot_07.wav', 'shot_08.wav', 'shot_09.wav', 'shot_10.wav', 'shot_11.wav', 'shot_12.wav', 'shot_13.wav', 'shot_14.wav', 'shot_15.wav', 'shot_16.wav', 'shot_17.wav', 'shot_18.wav']\n",
      "./audio_set/gunshot/shot_00.wav\n",
      "44100\n",
      "(86406, 2)\n"
     ]
    },
    {
     "ename": "TypeError",
     "evalue": "only size-1 arrays can be converted to Python scalars",
     "output_type": "error",
     "traceback": [
      "\u001b[1;31m---------------------------------------------------------------------------\u001b[0m",
      "\u001b[1;31mTypeError\u001b[0m                                 Traceback (most recent call last)",
      "\u001b[1;32m<ipython-input-18-cd4173fe71e8>\u001b[0m in \u001b[0;36m<module>\u001b[1;34m()\u001b[0m\n\u001b[0;32m     23\u001b[0m     \u001b[0moffset\u001b[0m \u001b[1;33m=\u001b[0m \u001b[0mint\u001b[0m\u001b[1;33m(\u001b[0m\u001b[0mmax\u001b[0m\u001b[1;33m(\u001b[0m\u001b[1;36m0\u001b[0m\u001b[1;33m,\u001b[0m\u001b[0mnp\u001b[0m\u001b[1;33m.\u001b[0m\u001b[0mrandom\u001b[0m\u001b[1;33m.\u001b[0m\u001b[0mrandom\u001b[0m\u001b[1;33m(\u001b[0m\u001b[1;33m)\u001b[0m\u001b[1;33m*\u001b[0m\u001b[1;33m(\u001b[0m\u001b[1;36m15\u001b[0m\u001b[1;33m*\u001b[0m\u001b[0mtwo\u001b[0m\u001b[1;33m-\u001b[0m\u001b[0mx_wave\u001b[0m\u001b[1;33m.\u001b[0m\u001b[0mshape\u001b[0m\u001b[1;33m[\u001b[0m\u001b[1;36m0\u001b[0m\u001b[1;33m]\u001b[0m\u001b[1;33m/\u001b[0m\u001b[0mfs\u001b[0m\u001b[1;33m)\u001b[0m\u001b[1;33m)\u001b[0m\u001b[1;33m*\u001b[0m\u001b[0mfs\u001b[0m\u001b[1;33m)\u001b[0m\u001b[1;33m\u001b[0m\u001b[0m\n\u001b[0;32m     24\u001b[0m     \u001b[0mamb\u001b[0m \u001b[1;33m=\u001b[0m \u001b[0mamb_wave\u001b[0m\u001b[1;33m[\u001b[0m\u001b[1;36m0\u001b[0m\u001b[1;33m:\u001b[0m\u001b[0mint\u001b[0m\u001b[1;33m(\u001b[0m\u001b[0mfs\u001b[0m\u001b[1;33m*\u001b[0m\u001b[1;36m15\u001b[0m\u001b[1;33m*\u001b[0m\u001b[0mtwo\u001b[0m\u001b[1;33m)\u001b[0m\u001b[1;33m,\u001b[0m\u001b[1;36m0\u001b[0m\u001b[1;33m]\u001b[0m\u001b[1;33m\u001b[0m\u001b[0m\n\u001b[1;32m---> 25\u001b[1;33m     \u001b[0mamb\u001b[0m \u001b[1;33m=\u001b[0m \u001b[0mint\u001b[0m\u001b[1;33m(\u001b[0m\u001b[1;36m0.2\u001b[0m\u001b[1;33m*\u001b[0m\u001b[0mamb\u001b[0m\u001b[1;33m)\u001b[0m\u001b[1;33m\u001b[0m\u001b[0m\n\u001b[0m\u001b[0;32m     26\u001b[0m     \u001b[0mprint\u001b[0m\u001b[1;33m(\u001b[0m\u001b[1;34m\"offset=\"\u001b[0m\u001b[1;33m,\u001b[0m\u001b[0moffset\u001b[0m\u001b[1;33m/\u001b[0m\u001b[0mfs\u001b[0m\u001b[1;33m,\u001b[0m\u001b[0mamb\u001b[0m\u001b[1;33m.\u001b[0m\u001b[0mshape\u001b[0m\u001b[1;33m)\u001b[0m\u001b[1;33m\u001b[0m\u001b[0m\n\u001b[0;32m     27\u001b[0m     \u001b[0moutput\u001b[0m \u001b[1;33m=\u001b[0m \u001b[0mcopy\u001b[0m\u001b[1;33m.\u001b[0m\u001b[0mdeepcopy\u001b[0m\u001b[1;33m(\u001b[0m\u001b[0mamb\u001b[0m\u001b[1;33m)\u001b[0m\u001b[1;33m\u001b[0m\u001b[0m\n",
      "\u001b[1;31mTypeError\u001b[0m: only size-1 arrays can be converted to Python scalars"
     ]
    }
   ],
   "source": [
    "wavpath = \"./audio_set/gunshot/\"\n",
    "txtpath = \"./audio_set/gun_text/\"\n",
    "\n",
    "wavfiles = [f for f in listdir(wavpath) if isfile(join(wavpath, f))]\n",
    "txtfiles = [t for t in listdir(txtpath) if isfile(join(txtpath, t))]\n",
    "print(wavfiles)\n",
    "for i in range(len(wavfiles)):\n",
    "    \n",
    "    file_name = \"./audio_set/gunshot/\"+wavfiles[i]\n",
    "    print(file_name)\n",
    "    fs,x_wave = wavfile.read(file_name)\n",
    "    interval = np.genfromtxt(txtpath+txtfiles[i], delimiter='\\t')\n",
    "\n",
    "    print(fs)\n",
    "    #interval = np.genfromtxt(txt_name, delimiter='\\t')\n",
    "    #sd.play(x_wave,fs,blocking=True)\n",
    "    print(x_wave.shape)\n",
    "    two = 1\n",
    "    if(x_wave.shape[0]/fs > 10):\n",
    "        two = 2\n",
    "\n",
    "\n",
    "    offset = int(max(0,np.random.random()*(15*two-x_wave.shape[0]/fs))*fs)\n",
    "    amb = amb_wave[0:int(fs*15*two),0]\n",
    "    print(\"offset=\",offset/fs,amb.shape)\n",
    "    output = copy.deepcopy(amb)\n",
    "    \n",
    "    if(x_wave.shape == (x_wave.shape[0],)):\n",
    "        output[offset:min(amb.shape[0],offset+x_wave.shape[0])] += x_wave[0:min(amb.shape[0]-offset,x_wave.shape[0])]\n",
    "    else:\n",
    "        output[offset:min(amb.shape[0],offset+x_wave.shape[0])] += x_wave[0:min(amb.shape[0]-offset,x_wave.shape[0]),0]\n",
    "    #sd.play(output,fs,blocking=True)\n",
    "\n",
    "    mix_filename = \"./audio_set/gunshot/mix/mix_indoor\"+wavfiles[i]\n",
    "    wavfile.write(mix_filename,fs,output)\n",
    "    text_filename = \"./audio_set/gunshot/mix_text/mix_indoor\"+wavfiles[i]+\".txt\"\n",
    "    interval = interval + offset/fs\n",
    "    np.savetxt(text_filename, interval,fmt='%1.3f', delimiter='\\t') \n",
    "    "
   ]
  },
  {
   "cell_type": "code",
   "execution_count": 17,
   "metadata": {},
   "outputs": [
    {
     "name": "stdout",
     "output_type": "stream",
     "text": [
      "(322031,)\n"
     ]
    }
   ],
   "source": [
    "print(x_wave.shape)"
   ]
  },
  {
   "cell_type": "code",
   "execution_count": null,
   "metadata": {
    "collapsed": true
   },
   "outputs": [],
   "source": []
  }
 ],
 "metadata": {
  "kernelspec": {
   "display_name": "Python 3",
   "language": "python",
   "name": "python3"
  },
  "language_info": {
   "codemirror_mode": {
    "name": "ipython",
    "version": 3
   },
   "file_extension": ".py",
   "mimetype": "text/x-python",
   "name": "python",
   "nbconvert_exporter": "python",
   "pygments_lexer": "ipython3",
   "version": "3.5.4"
  }
 },
 "nbformat": 4,
 "nbformat_minor": 2
}
